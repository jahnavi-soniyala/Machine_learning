{
 "cells": [
  {
   "cell_type": "code",
   "execution_count": 1,
   "id": "6e46b33b-b120-465f-8977-bfc72c89f68a",
   "metadata": {},
   "outputs": [
    {
     "name": "stdout",
     "output_type": "stream",
     "text": [
      "Requirement already satisfied: spacy in c:\\users\\jahna\\anaconda3\\lib\\site-packages (3.7.4)\n",
      "Requirement already satisfied: spacy-legacy<3.1.0,>=3.0.11 in c:\\users\\jahna\\anaconda3\\lib\\site-packages (from spacy) (3.0.12)\n",
      "Requirement already satisfied: spacy-loggers<2.0.0,>=1.0.0 in c:\\users\\jahna\\anaconda3\\lib\\site-packages (from spacy) (1.0.5)\n",
      "Requirement already satisfied: murmurhash<1.1.0,>=0.28.0 in c:\\users\\jahna\\anaconda3\\lib\\site-packages (from spacy) (1.0.10)\n",
      "Requirement already satisfied: cymem<2.1.0,>=2.0.2 in c:\\users\\jahna\\anaconda3\\lib\\site-packages (from spacy) (2.0.8)\n",
      "Requirement already satisfied: preshed<3.1.0,>=3.0.2 in c:\\users\\jahna\\anaconda3\\lib\\site-packages (from spacy) (3.0.9)\n",
      "Requirement already satisfied: thinc<8.3.0,>=8.2.2 in c:\\users\\jahna\\anaconda3\\lib\\site-packages (from spacy) (8.2.3)\n",
      "Requirement already satisfied: wasabi<1.2.0,>=0.9.1 in c:\\users\\jahna\\anaconda3\\lib\\site-packages (from spacy) (1.1.2)\n",
      "Requirement already satisfied: srsly<3.0.0,>=2.4.3 in c:\\users\\jahna\\anaconda3\\lib\\site-packages (from spacy) (2.4.8)\n",
      "Requirement already satisfied: catalogue<2.1.0,>=2.0.6 in c:\\users\\jahna\\anaconda3\\lib\\site-packages (from spacy) (2.0.10)\n",
      "Requirement already satisfied: weasel<0.4.0,>=0.1.0 in c:\\users\\jahna\\anaconda3\\lib\\site-packages (from spacy) (0.3.4)\n",
      "Requirement already satisfied: typer<0.10.0,>=0.3.0 in c:\\users\\jahna\\anaconda3\\lib\\site-packages (from spacy) (0.9.4)\n",
      "Requirement already satisfied: smart-open<7.0.0,>=5.2.1 in c:\\users\\jahna\\anaconda3\\lib\\site-packages (from spacy) (5.2.1)\n",
      "Requirement already satisfied: tqdm<5.0.0,>=4.38.0 in c:\\users\\jahna\\anaconda3\\lib\\site-packages (from spacy) (4.65.0)\n",
      "Requirement already satisfied: requests<3.0.0,>=2.13.0 in c:\\users\\jahna\\anaconda3\\lib\\site-packages (from spacy) (2.31.0)\n",
      "Requirement already satisfied: pydantic!=1.8,!=1.8.1,<3.0.0,>=1.7.4 in c:\\users\\jahna\\anaconda3\\lib\\site-packages (from spacy) (1.10.12)\n",
      "Requirement already satisfied: jinja2 in c:\\users\\jahna\\anaconda3\\lib\\site-packages (from spacy) (3.1.3)\n",
      "Requirement already satisfied: setuptools in c:\\users\\jahna\\anaconda3\\lib\\site-packages (from spacy) (68.2.2)\n",
      "Requirement already satisfied: packaging>=20.0 in c:\\users\\jahna\\anaconda3\\lib\\site-packages (from spacy) (23.1)\n",
      "Requirement already satisfied: langcodes<4.0.0,>=3.2.0 in c:\\users\\jahna\\anaconda3\\lib\\site-packages (from spacy) (3.4.0)\n",
      "Requirement already satisfied: numpy>=1.19.0 in c:\\users\\jahna\\anaconda3\\lib\\site-packages (from spacy) (1.26.4)\n",
      "Requirement already satisfied: language-data>=1.2 in c:\\users\\jahna\\anaconda3\\lib\\site-packages (from langcodes<4.0.0,>=3.2.0->spacy) (1.2.0)\n",
      "Requirement already satisfied: typing-extensions>=4.2.0 in c:\\users\\jahna\\anaconda3\\lib\\site-packages (from pydantic!=1.8,!=1.8.1,<3.0.0,>=1.7.4->spacy) (4.9.0)\n",
      "Requirement already satisfied: charset-normalizer<4,>=2 in c:\\users\\jahna\\anaconda3\\lib\\site-packages (from requests<3.0.0,>=2.13.0->spacy) (2.0.4)\n",
      "Requirement already satisfied: idna<4,>=2.5 in c:\\users\\jahna\\anaconda3\\lib\\site-packages (from requests<3.0.0,>=2.13.0->spacy) (3.4)\n",
      "Requirement already satisfied: urllib3<3,>=1.21.1 in c:\\users\\jahna\\anaconda3\\lib\\site-packages (from requests<3.0.0,>=2.13.0->spacy) (2.0.7)\n",
      "Requirement already satisfied: certifi>=2017.4.17 in c:\\users\\jahna\\anaconda3\\lib\\site-packages (from requests<3.0.0,>=2.13.0->spacy) (2024.2.2)\n",
      "Requirement already satisfied: blis<0.8.0,>=0.7.8 in c:\\users\\jahna\\anaconda3\\lib\\site-packages (from thinc<8.3.0,>=8.2.2->spacy) (0.7.11)\n",
      "Requirement already satisfied: confection<1.0.0,>=0.0.1 in c:\\users\\jahna\\anaconda3\\lib\\site-packages (from thinc<8.3.0,>=8.2.2->spacy) (0.1.4)\n",
      "Requirement already satisfied: colorama in c:\\users\\jahna\\anaconda3\\lib\\site-packages (from tqdm<5.0.0,>=4.38.0->spacy) (0.4.6)\n",
      "Requirement already satisfied: click<9.0.0,>=7.1.1 in c:\\users\\jahna\\anaconda3\\lib\\site-packages (from typer<0.10.0,>=0.3.0->spacy) (8.1.7)\n",
      "Requirement already satisfied: cloudpathlib<0.17.0,>=0.7.0 in c:\\users\\jahna\\anaconda3\\lib\\site-packages (from weasel<0.4.0,>=0.1.0->spacy) (0.16.0)\n",
      "Requirement already satisfied: MarkupSafe>=2.0 in c:\\users\\jahna\\anaconda3\\lib\\site-packages (from jinja2->spacy) (2.1.3)\n",
      "Requirement already satisfied: marisa-trie>=0.7.7 in c:\\users\\jahna\\anaconda3\\lib\\site-packages (from language-data>=1.2->langcodes<4.0.0,>=3.2.0->spacy) (1.1.1)\n"
     ]
    }
   ],
   "source": [
    "!pip install spacy"
   ]
  },
  {
   "cell_type": "code",
   "execution_count": 1,
   "id": "9f6e8cdf-6a24-48b1-9293-b54828112b77",
   "metadata": {},
   "outputs": [],
   "source": [
    "import spacy"
   ]
  },
  {
   "cell_type": "code",
   "execution_count": 3,
   "id": "13fed648-621e-4768-a0a0-0f142b610799",
   "metadata": {},
   "outputs": [
    {
     "name": "stdout",
     "output_type": "stream",
     "text": [
      "\u001b[38;5;2m✔ Download and installation successful\u001b[0m\n",
      "You can now load the package via spacy.load('en_core_web_sm')\n",
      "\u001b[38;5;3m⚠ Restart to reload dependencies\u001b[0m\n",
      "If you are in a Jupyter or Colab notebook, you may need to restart Python in\n",
      "order to load all the package's dependencies. You can do this by selecting the\n",
      "'Restart kernel' or 'Restart runtime' option.\n"
     ]
    }
   ],
   "source": [
    "spacy.cli.download(\"en_core_web_sm\")"
   ]
  },
  {
   "cell_type": "code",
   "execution_count": 4,
   "id": "f1700dd5-dd95-4cb7-a806-31aaeeed83d2",
   "metadata": {},
   "outputs": [],
   "source": [
    "nlp = spacy.load(\"en_core_web_sm\")"
   ]
  },
  {
   "cell_type": "code",
   "execution_count": 5,
   "id": "7c143950-194a-4e3a-aff3-f1de62658efe",
   "metadata": {},
   "outputs": [],
   "source": [
    "with open(\"news_story.txt\",'r') as f:\n",
    "    text=f.readlines()"
   ]
  },
  {
   "cell_type": "code",
   "execution_count": 12,
   "id": "402b1fb2-5b86-4b5e-9401-eae2c666e3a0",
   "metadata": {},
   "outputs": [
    {
     "data": {
      "text/plain": [
       "str"
      ]
     },
     "execution_count": 12,
     "metadata": {},
     "output_type": "execute_result"
    }
   ],
   "source": [
    "txt=''.join(text)\n",
    "type(txt)"
   ]
  },
  {
   "cell_type": "code",
   "execution_count": 15,
   "id": "7fea46ee-b0eb-4bd6-943a-b766c684d9fe",
   "metadata": {},
   "outputs": [],
   "source": [
    "doc=nlp(txt)"
   ]
  },
  {
   "cell_type": "code",
   "execution_count": 20,
   "id": "3bba6faa-19e7-4a2c-8445-6b0ae352b95a",
   "metadata": {},
   "outputs": [
    {
     "name": "stdout",
     "output_type": "stream",
     "text": [
      "Inflation NOUN noun\n",
      "climb NOUN noun\n",
      "consumers NOUN noun\n",
      "brink NOUN noun\n",
      "expansion NOUN noun\n",
      "consumer NOUN noun\n",
      "price NOUN noun\n",
      "index NOUN noun\n",
      "measure NOUN noun\n",
      "prices NOUN noun\n",
      "goods NOUN noun\n",
      "services NOUN noun\n",
      "% NOUN noun\n",
      "year NOUN noun\n",
      "estimate NOUN noun\n",
      "% NOUN noun\n",
      "gain NOUN noun\n",
      "ease NOUN noun\n",
      "Marchâ€ NOUN noun\n",
      "™ NOUN noun\n",
      "peak NOUN noun\n",
      "level NOUN noun\n",
      "summer NOUN noun\n",
      "food NOUN noun\n",
      "energy NOUN noun\n",
      "prices NOUN noun\n",
      "core NOUN noun\n",
      "% NOUN noun\n",
      "expectations NOUN noun\n",
      "% NOUN noun\n",
      "gain NOUN noun\n",
      "hopes NOUN noun\n",
      "inflation NOUN noun\n",
      "month NOUN noun\n",
      "month NOUN noun\n",
      "gains NOUN noun\n",
      "expectations NOUN noun\n",
      "% NOUN noun\n",
      "headline NOUN noun\n",
      "% NOUN noun\n",
      "estimate NOUN noun\n",
      "% NOUN noun\n",
      "increase NOUN noun\n",
      "core NOUN noun\n",
      "outlook NOUN noun\n",
      "% NOUN noun\n",
      "gain NOUN noun\n",
      "price NOUN noun\n",
      "gains NOUN noun\n",
      "workers NOUN noun\n",
      "ground NOUN noun\n",
      "wages NOUN noun\n",
      "inflation NOUN noun\n",
      "% NOUN noun\n",
      "month NOUN noun\n",
      "increase NOUN noun\n",
      "% NOUN noun\n",
      "earnings NOUN noun\n",
      "year NOUN noun\n",
      "earnings NOUN noun\n",
      "% NOUN noun\n",
      "earnings NOUN noun\n",
      "% NOUN noun\n",
      "Inflation NOUN noun\n",
      "threat NOUN noun\n",
      "recovery NOUN noun\n",
      "pandemic NOUN noun\n",
      "economy NOUN noun\n",
      "stage NOUN noun\n",
      "year NOUN noun\n",
      "growth NOUN noun\n",
      "level NOUN noun\n",
      "prices NOUN noun\n",
      "pump NOUN noun\n",
      "grocery NOUN noun\n",
      "stores NOUN noun\n",
      "problem NOUN noun\n",
      "inflation NOUN noun\n",
      "areas NOUN noun\n",
      "housing NOUN noun\n",
      "auto NOUN noun\n",
      "sales NOUN noun\n",
      "host NOUN noun\n",
      "areas NOUN noun\n",
      "officials NOUN noun\n",
      "problem NOUN noun\n",
      "interest NOUN noun\n",
      "rate NOUN noun\n",
      "hikes NOUN noun\n",
      "year NOUN noun\n",
      "pledges NOUN noun\n",
      "inflation NOUN noun\n",
      "% NOUN noun\n",
      "goal NOUN noun\n",
      "™ NOUN noun\n",
      "data NOUN noun\n",
      "job NOUN noun\n",
      "Credits NOUN noun\n"
     ]
    }
   ],
   "source": [
    "for token in doc:\n",
    "    if token.pos_ =='NOUN':\n",
    "        print(token,token.pos_,spacy.explain(token.pos_))"
   ]
  },
  {
   "cell_type": "code",
   "execution_count": 22,
   "id": "45c32bcf-4b95-4f39-918e-5b9b85594275",
   "metadata": {},
   "outputs": [
    {
     "name": "stdout",
     "output_type": "stream",
     "text": [
      "8.3 NUM numeral\n",
      "8.1 NUM numeral\n",
      "1982 NUM numeral\n",
      "6.2 NUM numeral\n",
      "6 NUM numeral\n",
      "â€ NUM numeral\n",
      "0.3 NUM numeral\n",
      "0.2 NUM numeral\n",
      "0.6 NUM numeral\n",
      "0.4 NUM numeral\n",
      "0.1 NUM numeral\n",
      "0.3 NUM numeral\n",
      "2.6 NUM numeral\n",
      "5.5 NUM numeral\n",
      "2021 NUM numeral\n",
      "1984 NUM numeral\n",
      "one NUM numeral\n",
      "two NUM numeral\n",
      "two NUM numeral\n",
      "2 NUM numeral\n"
     ]
    }
   ],
   "source": [
    "for token in doc:\n",
    "    if token.pos_ =='NUM':\n",
    "       print(token,token.pos_,spacy.explain(token.pos_))"
   ]
  },
  {
   "cell_type": "code",
   "execution_count": 26,
   "id": "3390ca86-ad28-47ce-a756-3355c5ed5716",
   "metadata": {},
   "outputs": [
    {
     "data": {
      "text/plain": [
       "{92: 98,\n",
       " 100: 27,\n",
       " 86: 15,\n",
       " 85: 39,\n",
       " 96: 17,\n",
       " 97: 32,\n",
       " 90: 34,\n",
       " 95: 4,\n",
       " 87: 13,\n",
       " 89: 10,\n",
       " 84: 23,\n",
       " 103: 7,\n",
       " 93: 20,\n",
       " 94: 4,\n",
       " 98: 8,\n",
       " 101: 1}"
      ]
     },
     "execution_count": 26,
     "metadata": {},
     "output_type": "execute_result"
    }
   ],
   "source": [
    "count=doc.count_by(spacy.attrs.POS)\n",
    "count"
   ]
  },
  {
   "cell_type": "code",
   "execution_count": 28,
   "id": "a1e8d58c-7783-4ba0-89be-ef9094139498",
   "metadata": {},
   "outputs": [
    {
     "name": "stdout",
     "output_type": "stream",
     "text": [
      "NOUN 98\n",
      "VERB 27\n",
      "ADV 15\n",
      "ADP 39\n",
      "PROPN 17\n",
      "PUNCT 32\n",
      "DET 34\n",
      "PRON 4\n",
      "AUX 13\n",
      "CCONJ 10\n",
      "ADJ 23\n",
      "SPACE 7\n",
      "NUM 20\n",
      "PART 4\n",
      "SCONJ 8\n",
      "X 1\n"
     ]
    }
   ],
   "source": [
    "for k,v in count.items():\n",
    "    print(doc.vocab[k].text,v)"
   ]
  },
  {
   "cell_type": "code",
   "execution_count": 34,
   "id": "abb7ae69-ea6f-4c71-9e87-abf98ace2e86",
   "metadata": {},
   "outputs": [],
   "source": [
    "text = \"\"\"Sachin Tendulkar was born on 24 April 1973, Virat Kholi was born on 5 November 1988, Dhoni was born on 7 July 1981\n",
    "and finally Ricky ponting was born on 19 December 1974.\"\"\"\n",
    "\n",
    "doc = nlp(text)"
   ]
  },
  {
   "cell_type": "code",
   "execution_count": 32,
   "id": "ab6c8b6e-b47f-4869-a8e3-8526bce0eee1",
   "metadata": {},
   "outputs": [
    {
     "name": "stdout",
     "output_type": "stream",
     "text": [
      "India GPE\n",
      "Delhi GPE\n",
      "Gujarat GPE\n",
      "Tamilnadu GPE\n",
      "Pongal GPE\n",
      "Andhrapradesh GPE\n",
      "Assam GPE\n",
      "Bihar GPE\n"
     ]
    }
   ],
   "source": [
    "for i in doc.ents:\n",
    "    if i.label_ =='GPE':\n",
    "        print(i.text,i.label_)"
   ]
  },
  {
   "cell_type": "code",
   "execution_count": 35,
   "id": "c1993471-e175-4b65-9d9d-ab626713b9e5",
   "metadata": {},
   "outputs": [
    {
     "name": "stdout",
     "output_type": "stream",
     "text": [
      "24 April 1973 DATE\n",
      "5 November 1988 DATE\n",
      "7 July 1981 DATE\n",
      "19 December 1974 DATE\n"
     ]
    }
   ],
   "source": [
    "for i in doc.ents:\n",
    "    if i.label_ =='DATE':\n",
    "        print(i.text,i.label_)"
   ]
  },
  {
   "cell_type": "code",
   "execution_count": 38,
   "id": "a9be33c1-52db-40dd-9104-761003f76ad6",
   "metadata": {},
   "outputs": [],
   "source": [
    "text=\"jahnavi is the founder of tesla\"\n",
    "doc=nlp(text)"
   ]
  },
  {
   "cell_type": "code",
   "execution_count": 50,
   "id": "f3bc399b-462e-4976-b8f1-9c276b117b63",
   "metadata": {},
   "outputs": [
    {
     "name": "stdout",
     "output_type": "stream",
     "text": [
      "jahnavi FOUNDER\n",
      "tesla ORG\n"
     ]
    }
   ],
   "source": [
    "for i in doc.ents:\n",
    "    print(i.text,i.label_)"
   ]
  },
  {
   "cell_type": "code",
   "execution_count": 44,
   "id": "3ac91236-1d8d-47c3-b8a4-dacb7f35e1ba",
   "metadata": {},
   "outputs": [],
   "source": [
    "from spacy.tokens import Span"
   ]
  },
  {
   "cell_type": "code",
   "execution_count": 49,
   "id": "be1738ae-f220-4ae7-9fbe-da1fdee12d80",
   "metadata": {},
   "outputs": [],
   "source": [
    "s1=Span(doc,0,1,label='FOUNDER')\n",
    "s2=Span(doc,5,6,label='ORG')\n",
    "doc.set_ents([s1,s2],default='unmodified')"
   ]
  }
 ],
 "metadata": {
  "kernelspec": {
   "display_name": "Python 3 (ipykernel)",
   "language": "python",
   "name": "python3"
  },
  "language_info": {
   "codemirror_mode": {
    "name": "ipython",
    "version": 3
   },
   "file_extension": ".py",
   "mimetype": "text/x-python",
   "name": "python",
   "nbconvert_exporter": "python",
   "pygments_lexer": "ipython3",
   "version": "3.11.7"
  }
 },
 "nbformat": 4,
 "nbformat_minor": 5
}
